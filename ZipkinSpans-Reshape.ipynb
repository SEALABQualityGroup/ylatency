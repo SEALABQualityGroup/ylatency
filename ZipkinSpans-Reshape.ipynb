{
 "cells": [
  {
   "cell_type": "code",
   "execution_count": 1,
   "metadata": {},
   "outputs": [],
   "source": [
    "from datetime import datetime, timedelta, time, date\n",
    "from pyspark.sql import functions as f"
   ]
  },
  {
   "cell_type": "code",
   "execution_count": 2,
   "metadata": {},
   "outputs": [],
   "source": [
    "class HoursOfTheDay:\n",
    "    def __init__(self, date):\n",
    "        self.datetime = datetime.combine(date, time.min)\n",
    "        self.hour = 0\n",
    "\n",
    "    def __iter__(self):\n",
    "        return self\n",
    "\n",
    "    def __next__(self):\n",
    "        if self.hour > 23:\n",
    "            raise StopIteration\n",
    "        else:\n",
    "            fromm = self.datetime + timedelta(hours=self.hour)\n",
    "            to = self.datetime + timedelta(hours=self.hour+1) - timedelta(microseconds=1)\n",
    "            self.hour += 1\n",
    "            return int(fromm.timestamp()*1000000), int(to.timestamp()*1000000)"
   ]
  },
  {
   "cell_type": "code",
   "execution_count": 3,
   "metadata": {},
   "outputs": [],
   "source": [
    "def loadSpans(from_, to):\n",
    "    return (spark.read.format(\"es\")\n",
    "                .option(\"es.resource\", \"zipkin*\")\n",
    "                .load()\n",
    "                .select('traceId',\n",
    "                        f.concat_ws('_', *['localEndpoint.serviceName', 'name']).alias('endpoint'),\n",
    "                        'duration',\n",
    "                        'id',\n",
    "                        'kind',\n",
    "                        'timestamp',\n",
    "                        'parentId')\n",
    "                .filter(f.col('timestamp').between(from_,to)))\n"
   ]
  },
  {
   "cell_type": "code",
   "execution_count": 4,
   "metadata": {},
   "outputs": [],
   "source": [
    "def filterServerSpans(spans):\n",
    "    return (spans.filter(spans.kind=='SERVER')\n",
    "                 .drop('parentId','kind'))"
   ]
  },
  {
   "cell_type": "code",
   "execution_count": 5,
   "metadata": {},
   "outputs": [],
   "source": [
    "def filterClientSpans(spans):\n",
    "    return (spans.filter(spans.kind=='CLIENT')\n",
    "                 .drop('kind'))"
   ]
  },
  {
   "cell_type": "code",
   "execution_count": 6,
   "metadata": {},
   "outputs": [],
   "source": [
    "def createClientsDuration(serverSpans, clientSpans):\n",
    "    return (clientSpans.groupBy('parentId')\n",
    "                       .agg(f.sum('duration').alias('clients_duration')))"
   ]
  },
  {
   "cell_type": "code",
   "execution_count": 7,
   "metadata": {},
   "outputs": [],
   "source": [
    "def craeteServerSpansWithClientsDuration(spans):\n",
    "    serverSpans = filterServerSpans(spans)\n",
    "    clientSpans = filterClientSpans(spans)\n",
    "    clientsDuration = createClientsDuration(serverSpans, clientSpans)\n",
    "    return (serverSpans.join(clientsDuration,\n",
    "                            serverSpans.id == clientsDuration.parentId,\n",
    "                                 'left_outer')\n",
    "                           .drop('parentId')\n",
    "                           .na.fill(0))"
   ]
  },
  {
   "cell_type": "code",
   "execution_count": 8,
   "metadata": {},
   "outputs": [],
   "source": [
    "def createAvgDurPerTraceEndpointPairs(serverSpansWithSelfDuration):\n",
    "    return  (serverSpansWithSelfDuration\n",
    "                        .groupBy('traceId','endpoint')\n",
    "                        .agg(f.avg('duration').alias('avg_duration'),\n",
    "                             f.avg('self_duration').alias('avg_self_duration')))"
   ]
  },
  {
   "cell_type": "code",
   "execution_count": 10,
   "metadata": {},
   "outputs": [],
   "source": [
    "def createEndpointTraces(spans):\n",
    "    serverSpansWithClientsDuration = craeteServerSpansWithClientsDuration(spans)\n",
    "    serverSpansWithSelfDuration = (serverSpansWithClientsDuration\n",
    "                                      .withColumn('self_duration',\n",
    "                                                  f.col('duration') - f.col('clients_duration')))\n",
    "    avgDurPerTraceEndpoint = createAvgDurPerTraceEndpointPairs(serverSpansWithSelfDuration)\n",
    "    return (avgDurPerTraceEndpoint\n",
    "                        .groupBy('traceId')\n",
    "                        .pivot('endpoint')\n",
    "                        .agg(f.first('avg_self_duration').alias('avg_self_dur'),\n",
    "                             f.first('avg_duration').alias('avg_dur'))\n",
    "                        .dropna())\n",
    "                        "
   ]
  },
  {
   "cell_type": "code",
   "execution_count": 2,
   "metadata": {},
   "outputs": [],
   "source": [
    "day = date.today()"
   ]
  },
  {
   "cell_type": "code",
   "execution_count": 19,
   "metadata": {},
   "outputs": [],
   "source": [
    "for from_, to in HoursOfTheDay(day):\n",
    "    spans = loadSpans(from_, to)\n",
    "    endpointTraces = createEndpointTraces(spans)\n",
    "    endpointTraces.write.parquet('data/%d.parquet'% from_)"
   ]
  }
 ],
 "metadata": {
  "kernelspec": {
   "display_name": "Python 3",
   "language": "python",
   "name": "python3"
  },
  "language_info": {
   "codemirror_mode": {
    "name": "ipython",
    "version": 3
   },
   "file_extension": ".py",
   "mimetype": "text/x-python",
   "name": "python",
   "nbconvert_exporter": "python",
   "pygments_lexer": "ipython3",
   "version": "3.6.3"
  }
 },
 "nbformat": 4,
 "nbformat_minor": 2
}
